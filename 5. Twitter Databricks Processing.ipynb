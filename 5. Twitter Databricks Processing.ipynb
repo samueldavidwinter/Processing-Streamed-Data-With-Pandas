{
 "cells": [
  {
   "cell_type": "markdown",
   "metadata": {
    "application/vnd.databricks.v1+cell": {
     "inputWidgets": {},
     "nuid": "97e89253-af8b-439d-b712-569aaa83b981",
     "showTitle": false,
     "title": ""
    }
   },
   "source": [
    "# Data Engineer Challenge"
   ]
  },
  {
   "cell_type": "markdown",
   "metadata": {
    "application/vnd.databricks.v1+cell": {
     "inputWidgets": {},
     "nuid": "c3ffb94a-9f58-47e7-bee4-bb78d4b2c4f4",
     "showTitle": false,
     "title": ""
    }
   },
   "source": [
    "# Setup"
   ]
  },
  {
   "cell_type": "code",
   "execution_count": 8,
   "metadata": {
    "application/vnd.databricks.v1+cell": {
     "inputWidgets": {},
     "nuid": "4e775717-07e1-44ef-8810-710c541f2a8e",
     "showTitle": false,
     "title": ""
    }
   },
   "outputs": [
    {
     "name": "stdout",
     "output_type": "stream",
     "text": [
      "Collecting azure\n",
      "  Using cached azure-5.0.0.zip (4.6 kB)\n",
      "  Using cached azure-4.0.0-py2.py3-none-any.whl (2.2 kB)\n",
      "Requirement already satisfied: azure-storage-blob~=1.3 in c:\\programdata\\anaconda3\\lib\\site-packages (from azure) (1.5.0)\n",
      "Collecting azure-cosmosdb-table~=1.0\n",
      "  Using cached azure_cosmosdb_table-1.0.6-py2.py3-none-any.whl (125 kB)\n",
      "Requirement already satisfied: azure-servicebus~=0.21.1 in c:\\programdata\\anaconda3\\lib\\site-packages (from azure) (0.21.1)\n",
      "Requirement already satisfied: azure-servicemanagement-legacy~=0.20.6 in c:\\programdata\\anaconda3\\lib\\site-packages (from azure) (0.20.7)\n",
      "Requirement already satisfied: azure-storage-queue~=1.3 in c:\\programdata\\anaconda3\\lib\\site-packages (from azure) (1.4.0)\n",
      "Requirement already satisfied: azure-storage-file~=1.3 in c:\\programdata\\anaconda3\\lib\\site-packages (from azure) (1.4.0)\n",
      "Requirement already satisfied: azure-eventgrid~=1.1 in c:\\programdata\\anaconda3\\lib\\site-packages (from azure) (1.3.0)\n",
      "Requirement already satisfied: azure-graphrbac~=0.40.0 in c:\\programdata\\anaconda3\\lib\\site-packages (from azure) (0.40.0)\n",
      "Requirement already satisfied: azure-servicefabric~=6.3.0.0 in c:\\programdata\\anaconda3\\lib\\site-packages (from azure) (6.3.0.0)\n",
      "Requirement already satisfied: azure-datalake-store~=0.0.18 in c:\\programdata\\anaconda3\\lib\\site-packages (from azure) (0.0.52)\n",
      "Requirement already satisfied: azure-mgmt~=4.0 in c:\\programdata\\anaconda3\\lib\\site-packages (from azure) (4.0.0)\n",
      "Requirement already satisfied: azure-keyvault~=1.0 in c:\\programdata\\anaconda3\\lib\\site-packages (from azure) (1.1.0)\n",
      "Collecting azure-applicationinsights~=0.1.0\n",
      "  Using cached azure_applicationinsights-0.1.1-py2.py3-none-any.whl (103 kB)\n",
      "Requirement already satisfied: azure-loganalytics~=0.1.0 in c:\\programdata\\anaconda3\\lib\\site-packages (from azure) (0.1.1)\n",
      "Collecting azure-batch~=4.1\n",
      "  Using cached azure_batch-4.1.3-py2.py3-none-any.whl (314 kB)\n",
      "Requirement already satisfied: azure-common~=1.1 in c:\\programdata\\anaconda3\\lib\\site-packages (from azure-applicationinsights~=0.1.0->azure) (1.1.28)\n",
      "Requirement already satisfied: msrest>=0.6.21 in c:\\programdata\\anaconda3\\lib\\site-packages (from azure-applicationinsights~=0.1.0->azure) (0.6.21)\n",
      "Requirement already satisfied: msrestazure<2.0.0,>=0.4.20 in c:\\programdata\\anaconda3\\lib\\site-packages (from azure-batch~=4.1->azure) (0.6.4)\n",
      "Requirement already satisfied: azure-nspkg>=2.0.0 in c:\\programdata\\anaconda3\\lib\\site-packages (from azure-batch~=4.1->azure) (3.0.2)\n",
      "Requirement already satisfied: python-dateutil in c:\\programdata\\anaconda3\\lib\\site-packages (from azure-cosmosdb-table~=1.0->azure) (2.8.1)\n",
      "Requirement already satisfied: azure-cosmosdb-nspkg>=2.0.0 in c:\\programdata\\anaconda3\\lib\\site-packages (from azure-cosmosdb-table~=1.0->azure) (2.0.2)\n",
      "Requirement already satisfied: requests in c:\\programdata\\anaconda3\\lib\\site-packages (from azure-cosmosdb-table~=1.0->azure) (2.25.1)\n",
      "Requirement already satisfied: cryptography in c:\\programdata\\anaconda3\\lib\\site-packages (from azure-cosmosdb-table~=1.0->azure) (3.4.7)\n",
      "Requirement already satisfied: adal>=0.4.2 in c:\\programdata\\anaconda3\\lib\\site-packages (from azure-datalake-store~=0.0.18->azure) (1.2.7)\n",
      "Requirement already satisfied: cffi in c:\\programdata\\anaconda3\\lib\\site-packages (from azure-datalake-store~=0.0.18->azure) (1.14.5)\n",
      "Requirement already satisfied: PyJWT<3,>=1.0.0 in c:\\programdata\\anaconda3\\lib\\site-packages (from adal>=0.4.2->azure-datalake-store~=0.0.18->azure) (2.3.0)\n",
      "Requirement already satisfied: azure-mgmt-managementpartner~=0.1.0 in c:\\programdata\\anaconda3\\lib\\site-packages (from azure-mgmt~=4.0->azure) (0.1.1)\n",
      "Requirement already satisfied: azure-mgmt-powerbiembedded~=2.0 in c:\\programdata\\anaconda3\\lib\\site-packages (from azure-mgmt~=4.0->azure) (2.0.0)\n",
      "Requirement already satisfied: azure-mgmt-search~=2.0 in c:\\programdata\\anaconda3\\lib\\site-packages (from azure-mgmt~=4.0->azure) (2.1.0)\n",
      "Requirement already satisfied: azure-mgmt-datamigration~=1.0 in c:\\programdata\\anaconda3\\lib\\site-packages (from azure-mgmt~=4.0->azure) (1.0.0)\n",
      "Requirement already satisfied: azure-mgmt-signalr~=0.1.0 in c:\\programdata\\anaconda3\\lib\\site-packages (from azure-mgmt~=4.0->azure) (0.1.1)\n",
      "Requirement already satisfied: azure-mgmt-hanaonazure~=0.1.1 in c:\\programdata\\anaconda3\\lib\\site-packages (from azure-mgmt~=4.0->azure) (0.1.1)\n",
      "Requirement already satisfied: azure-mgmt-datalake-store~=0.5.0 in c:\\programdata\\anaconda3\\lib\\site-packages (from azure-mgmt~=4.0->azure) (0.5.0)\n",
      "Requirement already satisfied: azure-mgmt-trafficmanager~=0.50.0 in c:\\programdata\\anaconda3\\lib\\site-packages (from azure-mgmt~=4.0->azure) (0.50.0)\n",
      "Requirement already satisfied: azure-mgmt-containerservice~=4.2 in c:\\programdata\\anaconda3\\lib\\site-packages (from azure-mgmt~=4.0->azure) (4.4.0)\n",
      "Requirement already satisfied: azure-mgmt-compute~=4.0 in c:\\programdata\\anaconda3\\lib\\site-packages (from azure-mgmt~=4.0->azure) (4.6.2)\n",
      "Requirement already satisfied: azure-mgmt-iothub~=0.5.0 in c:\\programdata\\anaconda3\\lib\\site-packages (from azure-mgmt~=4.0->azure) (0.5.0)\n",
      "Requirement already satisfied: azure-mgmt-loganalytics~=0.2.0 in c:\\programdata\\anaconda3\\lib\\site-packages (from azure-mgmt~=4.0->azure) (0.2.0)\n",
      "Requirement already satisfied: azure-mgmt-notificationhubs~=2.0 in c:\\programdata\\anaconda3\\lib\\site-packages (from azure-mgmt~=4.0->azure) (2.1.0)\n",
      "Requirement already satisfied: azure-mgmt-maps~=0.1.0 in c:\\programdata\\anaconda3\\lib\\site-packages (from azure-mgmt~=4.0->azure) (0.1.0)\n",
      "Requirement already satisfied: azure-mgmt-billing~=0.2.0 in c:\\programdata\\anaconda3\\lib\\site-packages (from azure-mgmt~=4.0->azure) (0.2.0)\n",
      "Requirement already satisfied: azure-mgmt-network~=2.0 in c:\\programdata\\anaconda3\\lib\\site-packages (from azure-mgmt~=4.0->azure) (2.7.0)\n",
      "Requirement already satisfied: azure-mgmt-recoveryservices~=0.3.0 in c:\\programdata\\anaconda3\\lib\\site-packages (from azure-mgmt~=4.0->azure) (0.3.0)\n",
      "Requirement already satisfied: azure-mgmt-cdn~=3.0 in c:\\programdata\\anaconda3\\lib\\site-packages (from azure-mgmt~=4.0->azure) (3.1.0)\n",
      "Requirement already satisfied: azure-mgmt-containerregistry~=2.1 in c:\\programdata\\anaconda3\\lib\\site-packages (from azure-mgmt~=4.0->azure) (2.8.0)\n",
      "Requirement already satisfied: azure-mgmt-batchai~=2.0 in c:\\programdata\\anaconda3\\lib\\site-packages (from azure-mgmt~=4.0->azure) (2.0.0)\n",
      "Requirement already satisfied: azure-mgmt-keyvault~=1.0 in c:\\programdata\\anaconda3\\lib\\site-packages (from azure-mgmt~=4.0->azure) (1.1.0)\n",
      "Requirement already satisfied: azure-mgmt-monitor~=0.5.2 in c:\\programdata\\anaconda3\\lib\\site-packages (from azure-mgmt~=4.0->azure) (0.5.2)\n",
      "Requirement already satisfied: azure-mgmt-datalake-analytics~=0.6.0 in c:\\programdata\\anaconda3\\lib\\site-packages (from azure-mgmt~=4.0->azure) (0.6.0)\n",
      "Requirement already satisfied: azure-mgmt-redis~=5.0 in c:\\programdata\\anaconda3\\lib\\site-packages (from azure-mgmt~=4.0->azure) (5.0.0)\n",
      "Requirement already satisfied: azure-mgmt-web~=0.35.0 in c:\\programdata\\anaconda3\\lib\\site-packages (from azure-mgmt~=4.0->azure) (0.35.0)\n",
      "Requirement already satisfied: azure-mgmt-msi~=0.2.0 in c:\\programdata\\anaconda3\\lib\\site-packages (from azure-mgmt~=4.0->azure) (0.2.0)\n",
      "Requirement already satisfied: azure-mgmt-iothubprovisioningservices~=0.2.0 in c:\\programdata\\anaconda3\\lib\\site-packages (from azure-mgmt~=4.0->azure) (0.2.0)\n",
      "Requirement already satisfied: azure-mgmt-recoveryservicesbackup~=0.3.0 in c:\\programdata\\anaconda3\\lib\\site-packages (from azure-mgmt~=4.0->azure) (0.3.0)\n",
      "Requirement already satisfied: azure-mgmt-machinelearningcompute~=0.4.1 in c:\\programdata\\anaconda3\\lib\\site-packages (from azure-mgmt~=4.0->azure) (0.4.1)\n",
      "Requirement already satisfied: azure-mgmt-media~=1.0.0rc2 in c:\\programdata\\anaconda3\\lib\\site-packages (from azure-mgmt~=4.0->azure) (1.0.0)\n",
      "Requirement already satisfied: azure-mgmt-relay~=0.1.0 in c:\\programdata\\anaconda3\\lib\\site-packages (from azure-mgmt~=4.0->azure) (0.1.0)\n",
      "Requirement already satisfied: azure-mgmt-cosmosdb~=0.4.1 in c:\\programdata\\anaconda3\\lib\\site-packages (from azure-mgmt~=4.0->azure) (0.4.1)\n",
      "Requirement already satisfied: azure-mgmt-sql~=0.9.1 in c:\\programdata\\anaconda3\\lib\\site-packages (from azure-mgmt~=4.0->azure) (0.9.1)\n",
      "Requirement already satisfied: azure-mgmt-subscription~=0.2.0 in c:\\programdata\\anaconda3\\lib\\site-packages (from azure-mgmt~=4.0->azure) (0.2.0)\n",
      "Requirement already satisfied: azure-mgmt-devspaces~=0.1.0 in c:\\programdata\\anaconda3\\lib\\site-packages (from azure-mgmt~=4.0->azure) (0.1.0)\n",
      "Requirement already satisfied: azure-mgmt-rdbms~=1.2 in c:\\programdata\\anaconda3\\lib\\site-packages (from azure-mgmt~=4.0->azure) (1.9.0)\n",
      "Requirement already satisfied: azure-mgmt-containerinstance~=1.0 in c:\\programdata\\anaconda3\\lib\\site-packages (from azure-mgmt~=4.0->azure) (1.5.0)\n",
      "Requirement already satisfied: azure-mgmt-scheduler~=2.0 in c:\\programdata\\anaconda3\\lib\\site-packages (from azure-mgmt~=4.0->azure) (2.0.0)\n",
      "Requirement already satisfied: azure-mgmt-devtestlabs~=2.2 in c:\\programdata\\anaconda3\\lib\\site-packages (from azure-mgmt~=4.0->azure) (2.2.0)\n",
      "Requirement already satisfied: azure-mgmt-resource~=2.0 in c:\\programdata\\anaconda3\\lib\\site-packages (from azure-mgmt~=4.0->azure) (2.2.0)\n",
      "Requirement already satisfied: azure-mgmt-servicefabric~=0.2.0 in c:\\programdata\\anaconda3\\lib\\site-packages (from azure-mgmt~=4.0->azure) (0.2.0)\n",
      "Requirement already satisfied: azure-mgmt-cognitiveservices~=3.0 in c:\\programdata\\anaconda3\\lib\\site-packages (from azure-mgmt~=4.0->azure) (3.0.0)\n",
      "Requirement already satisfied: azure-mgmt-eventgrid~=1.0 in c:\\programdata\\anaconda3\\lib\\site-packages (from azure-mgmt~=4.0->azure) (1.0.0)\n",
      "Requirement already satisfied: azure-mgmt-marketplaceordering~=0.1.0 in c:\\programdata\\anaconda3\\lib\\site-packages (from azure-mgmt~=4.0->azure) (0.1.0)\n",
      "Requirement already satisfied: azure-mgmt-storage~=2.0 in c:\\programdata\\anaconda3\\lib\\site-packages (from azure-mgmt~=4.0->azure) (2.0.0)\n",
      "Requirement already satisfied: azure-mgmt-logic~=3.0 in c:\\programdata\\anaconda3\\lib\\site-packages (from azure-mgmt~=4.0->azure) (3.0.0)\n",
      "Requirement already satisfied: azure-mgmt-authorization~=0.50.0 in c:\\programdata\\anaconda3\\lib\\site-packages (from azure-mgmt~=4.0->azure) (0.50.0)\n",
      "Requirement already satisfied: azure-mgmt-managementgroups~=0.1.0 in c:\\programdata\\anaconda3\\lib\\site-packages (from azure-mgmt~=4.0->azure) (0.1.0)\n",
      "Requirement already satisfied: azure-mgmt-servicebus~=0.5.1 in c:\\programdata\\anaconda3\\lib\\site-packages (from azure-mgmt~=4.0->azure) (0.5.3)\n",
      "Requirement already satisfied: azure-mgmt-advisor~=1.0 in c:\\programdata\\anaconda3\\lib\\site-packages (from azure-mgmt~=4.0->azure) (1.0.1)\n",
      "Requirement already satisfied: azure-mgmt-consumption~=2.0 in c:\\programdata\\anaconda3\\lib\\site-packages (from azure-mgmt~=4.0->azure) (2.0.0)\n",
      "Requirement already satisfied: azure-mgmt-datafactory~=0.6.0 in c:\\programdata\\anaconda3\\lib\\site-packages (from azure-mgmt~=4.0->azure) (0.6.0)\n",
      "Requirement already satisfied: azure-mgmt-dns~=2.0 in c:\\programdata\\anaconda3\\lib\\site-packages (from azure-mgmt~=4.0->azure) (2.1.0)\n",
      "Requirement already satisfied: azure-mgmt-commerce~=1.0 in c:\\programdata\\anaconda3\\lib\\site-packages (from azure-mgmt~=4.0->azure) (1.0.1)\n",
      "Requirement already satisfied: azure-mgmt-reservations~=0.2.1 in c:\\programdata\\anaconda3\\lib\\site-packages (from azure-mgmt~=4.0->azure) (0.2.1)\n",
      "Requirement already satisfied: azure-mgmt-eventhub~=2.1 in c:\\programdata\\anaconda3\\lib\\site-packages (from azure-mgmt~=4.0->azure) (2.6.0)\n",
      "Requirement already satisfied: azure-mgmt-policyinsights~=0.1.0 in c:\\programdata\\anaconda3\\lib\\site-packages (from azure-mgmt~=4.0->azure) (0.1.0)\n",
      "Requirement already satisfied: azure-mgmt-applicationinsights~=0.1.1 in c:\\programdata\\anaconda3\\lib\\site-packages (from azure-mgmt~=4.0->azure) (0.1.1)\n",
      "Requirement already satisfied: azure-mgmt-iotcentral~=0.1.0 in c:\\programdata\\anaconda3\\lib\\site-packages (from azure-mgmt~=4.0->azure) (0.1.0)\n",
      "Requirement already satisfied: azure-mgmt-batch~=5.0 in c:\\programdata\\anaconda3\\lib\\site-packages (from azure-mgmt~=4.0->azure) (5.0.1)\n",
      "Requirement already satisfied: azure-mgmt-nspkg>=2.0.0 in c:\\programdata\\anaconda3\\lib\\site-packages (from azure-mgmt-advisor~=1.0->azure-mgmt~=4.0->azure) (3.0.2)\n",
      "Requirement already satisfied: azure-mgmt-datalake-nspkg>=2.0.0 in c:\\programdata\\anaconda3\\lib\\site-packages (from azure-mgmt-datalake-analytics~=0.6.0->azure-mgmt~=4.0->azure) (3.0.1)\n",
      "Requirement already satisfied: azure-storage-common~=1.4 in c:\\programdata\\anaconda3\\lib\\site-packages (from azure-storage-blob~=1.3->azure) (1.4.2)\n",
      "Requirement already satisfied: pycparser in c:\\programdata\\anaconda3\\lib\\site-packages (from cffi->azure-datalake-store~=0.0.18->azure) (2.20)\n",
      "Requirement already satisfied: certifi>=2017.4.17 in c:\\programdata\\anaconda3\\lib\\site-packages (from msrest>=0.6.21->azure-applicationinsights~=0.1.0->azure) (2020.12.5)\n",
      "Requirement already satisfied: requests-oauthlib>=0.5.0 in c:\\programdata\\anaconda3\\lib\\site-packages (from msrest>=0.6.21->azure-applicationinsights~=0.1.0->azure) (1.3.1)\n",
      "Requirement already satisfied: isodate>=0.6.0 in c:\\programdata\\anaconda3\\lib\\site-packages (from msrest>=0.6.21->azure-applicationinsights~=0.1.0->azure) (0.6.1)\n",
      "Requirement already satisfied: six in c:\\programdata\\anaconda3\\lib\\site-packages (from isodate>=0.6.0->msrest>=0.6.21->azure-applicationinsights~=0.1.0->azure) (1.15.0)\n",
      "Requirement already satisfied: idna<3,>=2.5 in c:\\programdata\\anaconda3\\lib\\site-packages (from requests->azure-cosmosdb-table~=1.0->azure) (2.10)\n",
      "Requirement already satisfied: chardet<5,>=3.0.2 in c:\\programdata\\anaconda3\\lib\\site-packages (from requests->azure-cosmosdb-table~=1.0->azure) (4.0.0)\n",
      "Requirement already satisfied: urllib3<1.27,>=1.21.1 in c:\\programdata\\anaconda3\\lib\\site-packages (from requests->azure-cosmosdb-table~=1.0->azure) (1.26.4)\n",
      "Requirement already satisfied: oauthlib>=3.0.0 in c:\\programdata\\anaconda3\\lib\\site-packages (from requests-oauthlib>=0.5.0->msrest>=0.6.21->azure-applicationinsights~=0.1.0->azure) (3.2.0)\n",
      "Installing collected packages: azure-cosmosdb-table, azure-batch, azure-applicationinsights, azure\n",
      "Note: you may need to restart the kernel to use updated packages.\n"
     ]
    },
    {
     "name": "stderr",
     "output_type": "stream",
     "text": [
      "    ERROR: Command errored out with exit status 1:\n",
      "     command: 'C:\\ProgramData\\Anaconda3\\python.exe' -c 'import sys, setuptools, tokenize; sys.argv[0] = '\"'\"'C:\\\\Users\\\\david\\\\AppData\\\\Local\\\\Temp\\\\pip-install-1gipqubb\\\\azure_228ccbb014fe49bea1253abc9bd2e68b\\\\setup.py'\"'\"'; __file__='\"'\"'C:\\\\Users\\\\david\\\\AppData\\\\Local\\\\Temp\\\\pip-install-1gipqubb\\\\azure_228ccbb014fe49bea1253abc9bd2e68b\\\\setup.py'\"'\"';f=getattr(tokenize, '\"'\"'open'\"'\"', open)(__file__);code=f.read().replace('\"'\"'\\r\\n'\"'\"', '\"'\"'\\n'\"'\"');f.close();exec(compile(code, __file__, '\"'\"'exec'\"'\"'))' egg_info --egg-base 'C:\\Users\\david\\AppData\\Local\\Temp\\pip-pip-egg-info-pk6i0g2z'\n",
      "         cwd: C:\\Users\\david\\AppData\\Local\\Temp\\pip-install-1gipqubb\\azure_228ccbb014fe49bea1253abc9bd2e68b\\\n",
      "    Complete output (24 lines):\n",
      "    Traceback (most recent call last):\n",
      "      File \"<string>\", line 1, in <module>\n",
      "      File \"C:\\Users\\david\\AppData\\Local\\Temp\\pip-install-1gipqubb\\azure_228ccbb014fe49bea1253abc9bd2e68b\\setup.py\", line 60, in <module>\n",
      "        raise RuntimeError(message)\n",
      "    RuntimeError:\n",
      "    \n",
      "    Starting with v5.0.0, the 'azure' meta-package is deprecated and cannot be installed anymore.\n",
      "    Please install the service specific packages prefixed by `azure` needed for your application.\n",
      "    \n",
      "    The complete list of available packages can be found at:\n",
      "    https://aka.ms/azsdk/python/all\n",
      "    \n",
      "    Here's a non-exhaustive list of common packages:\n",
      "    \n",
      "    -  azure-mgmt-compute (https://pypi.python.org/pypi/azure-mgmt-compute) : Management of Virtual Machines, etc.\n",
      "    -  azure-mgmt-storage (https://pypi.python.org/pypi/azure-mgmt-storage) : Management of storage accounts.\n",
      "    -  azure-mgmt-resource (https://pypi.python.org/pypi/azure-mgmt-resource) : Generic package about Azure Resource Management (ARM)\n",
      "    -  azure-keyvault-secrets (https://pypi.python.org/pypi/azure-keyvault-secrets) : Access to secrets in Key Vault\n",
      "    -  azure-storage-blob (https://pypi.python.org/pypi/azure-storage-blob) : Access to blobs in storage accounts\n",
      "    \n",
      "    A more comprehensive discussion of the rationale for this decision can be found in the following issue:\n",
      "    https://github.com/Azure/azure-sdk-for-python/issues/10646\n",
      "    \n",
      "    \n",
      "    ----------------------------------------\n",
      "WARNING: Discarding https://files.pythonhosted.org/packages/e8/48/ef73d5e71ecb84cacaeaf533f519be81825ad6198acc41bd821f440e7f7c/azure-5.0.0.zip#sha256=f56d22acaba0ce74b821fd3d012d18854f9d0b3662d5a3a9240b1bd587c96b23 (from https://pypi.org/simple/azure/). Command errored out with exit status 1: python setup.py egg_info Check the logs for full command output.\n",
      "ERROR: Could not install packages due to an OSError: [WinError 5] Access is denied: 'C:\\\\ProgramData\\\\Anaconda3\\\\Lib\\\\site-packages\\\\tests\\\\__init__.py'\n",
      "Consider using the `--user` option or check the permissions.\n",
      "\n"
     ]
    },
    {
     "name": "stdout",
     "output_type": "stream",
     "text": [
      "Requirement already satisfied: azure-storage-blob in c:\\programdata\\anaconda3\\lib\\site-packages (1.5.0)\n",
      "Requirement already satisfied: azure-storage-common~=1.4 in c:\\programdata\\anaconda3\\lib\\site-packages (from azure-storage-blob) (1.4.2)\n",
      "Requirement already satisfied: azure-common>=1.1.5 in c:\\programdata\\anaconda3\\lib\\site-packages (from azure-storage-blob) (1.1.28)\n",
      "Requirement already satisfied: requests in c:\\programdata\\anaconda3\\lib\\site-packages (from azure-storage-common~=1.4->azure-storage-blob) (2.25.1)\n",
      "Requirement already satisfied: cryptography in c:\\programdata\\anaconda3\\lib\\site-packages (from azure-storage-common~=1.4->azure-storage-blob) (3.4.7)\n",
      "Requirement already satisfied: python-dateutil in c:\\programdata\\anaconda3\\lib\\site-packages (from azure-storage-common~=1.4->azure-storage-blob) (2.8.1)\n",
      "Requirement already satisfied: cffi>=1.12 in c:\\programdata\\anaconda3\\lib\\site-packages (from cryptography->azure-storage-common~=1.4->azure-storage-blob) (1.14.5)\n",
      "Requirement already satisfied: pycparser in c:\\programdata\\anaconda3\\lib\\site-packages (from cffi>=1.12->cryptography->azure-storage-common~=1.4->azure-storage-blob) (2.20)\n",
      "Requirement already satisfied: six>=1.5 in c:\\programdata\\anaconda3\\lib\\site-packages (from python-dateutil->azure-storage-common~=1.4->azure-storage-blob) (1.15.0)\n",
      "Requirement already satisfied: idna<3,>=2.5 in c:\\programdata\\anaconda3\\lib\\site-packages (from requests->azure-storage-common~=1.4->azure-storage-blob) (2.10)\n",
      "Requirement already satisfied: chardet<5,>=3.0.2 in c:\\programdata\\anaconda3\\lib\\site-packages (from requests->azure-storage-common~=1.4->azure-storage-blob) (4.0.0)\n",
      "Requirement already satisfied: urllib3<1.27,>=1.21.1 in c:\\programdata\\anaconda3\\lib\\site-packages (from requests->azure-storage-common~=1.4->azure-storage-blob) (1.26.4)\n",
      "Requirement already satisfied: certifi>=2017.4.17 in c:\\programdata\\anaconda3\\lib\\site-packages (from requests->azure-storage-common~=1.4->azure-storage-blob) (2020.12.5)\n",
      "Note: you may need to restart the kernel to use updated packages.\n",
      "Requirement already satisfied: azure-mgmt-resource in c:\\programdata\\anaconda3\\lib\\site-packages (2.2.0)\n",
      "Requirement already satisfied: azure-common~=1.1 in c:\\programdata\\anaconda3\\lib\\site-packages (from azure-mgmt-resource) (1.1.28)\n",
      "Requirement already satisfied: msrest>=0.5.0 in c:\\programdata\\anaconda3\\lib\\site-packages (from azure-mgmt-resource) (0.6.21)\n",
      "Requirement already satisfied: msrestazure<2.0.0,>=0.4.32 in c:\\programdata\\anaconda3\\lib\\site-packages (from azure-mgmt-resource) (0.6.4)\n",
      "Requirement already satisfied: requests~=2.16 in c:\\programdata\\anaconda3\\lib\\site-packages (from msrest>=0.5.0->azure-mgmt-resource) (2.25.1)\n",
      "Requirement already satisfied: isodate>=0.6.0 in c:\\programdata\\anaconda3\\lib\\site-packages (from msrest>=0.5.0->azure-mgmt-resource) (0.6.1)\n",
      "Requirement already satisfied: requests-oauthlib>=0.5.0 in c:\\programdata\\anaconda3\\lib\\site-packages (from msrest>=0.5.0->azure-mgmt-resource) (1.3.1)\n",
      "Requirement already satisfied: certifi>=2017.4.17 in c:\\programdata\\anaconda3\\lib\\site-packages (from msrest>=0.5.0->azure-mgmt-resource) (2020.12.5)\n",
      "Requirement already satisfied: six in c:\\programdata\\anaconda3\\lib\\site-packages (from isodate>=0.6.0->msrest>=0.5.0->azure-mgmt-resource) (1.15.0)\n",
      "Requirement already satisfied: adal<2.0.0,>=0.6.0 in c:\\programdata\\anaconda3\\lib\\site-packages (from msrestazure<2.0.0,>=0.4.32->azure-mgmt-resource) (1.2.7)\n",
      "Requirement already satisfied: python-dateutil<3,>=2.1.0 in c:\\programdata\\anaconda3\\lib\\site-packages (from adal<2.0.0,>=0.6.0->msrestazure<2.0.0,>=0.4.32->azure-mgmt-resource) (2.8.1)\n",
      "Requirement already satisfied: cryptography>=1.1.0 in c:\\programdata\\anaconda3\\lib\\site-packages (from adal<2.0.0,>=0.6.0->msrestazure<2.0.0,>=0.4.32->azure-mgmt-resource) (3.4.7)\n",
      "Requirement already satisfied: PyJWT<3,>=1.0.0 in c:\\programdata\\anaconda3\\lib\\site-packages (from adal<2.0.0,>=0.6.0->msrestazure<2.0.0,>=0.4.32->azure-mgmt-resource) (2.3.0)\n",
      "Requirement already satisfied: cffi>=1.12 in c:\\programdata\\anaconda3\\lib\\site-packages (from cryptography>=1.1.0->adal<2.0.0,>=0.6.0->msrestazure<2.0.0,>=0.4.32->azure-mgmt-resource) (1.14.5)\n",
      "Requirement already satisfied: pycparser in c:\\programdata\\anaconda3\\lib\\site-packages (from cffi>=1.12->cryptography>=1.1.0->adal<2.0.0,>=0.6.0->msrestazure<2.0.0,>=0.4.32->azure-mgmt-resource) (2.20)\n",
      "Requirement already satisfied: idna<3,>=2.5 in c:\\programdata\\anaconda3\\lib\\site-packages (from requests~=2.16->msrest>=0.5.0->azure-mgmt-resource) (2.10)\n",
      "Requirement already satisfied: urllib3<1.27,>=1.21.1 in c:\\programdata\\anaconda3\\lib\\site-packages (from requests~=2.16->msrest>=0.5.0->azure-mgmt-resource) (1.26.4)\n",
      "Requirement already satisfied: chardet<5,>=3.0.2 in c:\\programdata\\anaconda3\\lib\\site-packages (from requests~=2.16->msrest>=0.5.0->azure-mgmt-resource) (4.0.0)\n",
      "Requirement already satisfied: oauthlib>=3.0.0 in c:\\programdata\\anaconda3\\lib\\site-packages (from requests-oauthlib>=0.5.0->msrest>=0.5.0->azure-mgmt-resource) (3.2.0)\n",
      "Note: you may need to restart the kernel to use updated packages.\n",
      "Requirement already satisfied: azure-mgmt-datalake-store in c:\\programdata\\anaconda3\\lib\\site-packages (0.5.0)\n",
      "Requirement already satisfied: msrestazure<2.0.0,>=0.4.27 in c:\\programdata\\anaconda3\\lib\\site-packages (from azure-mgmt-datalake-store) (0.6.4)\n",
      "Requirement already satisfied: azure-mgmt-datalake-nspkg>=2.0.0 in c:\\programdata\\anaconda3\\lib\\site-packages (from azure-mgmt-datalake-store) (3.0.1)\n",
      "Requirement already satisfied: azure-common~=1.1 in c:\\programdata\\anaconda3\\lib\\site-packages (from azure-mgmt-datalake-store) (1.1.28)\n",
      "Requirement already satisfied: azure-mgmt-nspkg>=3.0.0 in c:\\programdata\\anaconda3\\lib\\site-packages (from azure-mgmt-datalake-nspkg>=2.0.0->azure-mgmt-datalake-store) (3.0.2)\n",
      "Requirement already satisfied: azure-nspkg>=3.0.0 in c:\\programdata\\anaconda3\\lib\\site-packages (from azure-mgmt-nspkg>=3.0.0->azure-mgmt-datalake-nspkg>=2.0.0->azure-mgmt-datalake-store) (3.0.2)\n",
      "Requirement already satisfied: six in c:\\programdata\\anaconda3\\lib\\site-packages (from msrestazure<2.0.0,>=0.4.27->azure-mgmt-datalake-store) (1.15.0)\n",
      "Requirement already satisfied: msrest<2.0.0,>=0.6.0 in c:\\programdata\\anaconda3\\lib\\site-packages (from msrestazure<2.0.0,>=0.4.27->azure-mgmt-datalake-store) (0.6.21)\n",
      "Requirement already satisfied: adal<2.0.0,>=0.6.0 in c:\\programdata\\anaconda3\\lib\\site-packages (from msrestazure<2.0.0,>=0.4.27->azure-mgmt-datalake-store) (1.2.7)\n",
      "Requirement already satisfied: python-dateutil<3,>=2.1.0 in c:\\programdata\\anaconda3\\lib\\site-packages (from adal<2.0.0,>=0.6.0->msrestazure<2.0.0,>=0.4.27->azure-mgmt-datalake-store) (2.8.1)\n",
      "Requirement already satisfied: requests<3,>=2.0.0 in c:\\programdata\\anaconda3\\lib\\site-packages (from adal<2.0.0,>=0.6.0->msrestazure<2.0.0,>=0.4.27->azure-mgmt-datalake-store) (2.25.1)\n",
      "Requirement already satisfied: cryptography>=1.1.0 in c:\\programdata\\anaconda3\\lib\\site-packages (from adal<2.0.0,>=0.6.0->msrestazure<2.0.0,>=0.4.27->azure-mgmt-datalake-store) (3.4.7)\n",
      "Requirement already satisfied: PyJWT<3,>=1.0.0 in c:\\programdata\\anaconda3\\lib\\site-packages (from adal<2.0.0,>=0.6.0->msrestazure<2.0.0,>=0.4.27->azure-mgmt-datalake-store) (2.3.0)\n",
      "Requirement already satisfied: cffi>=1.12 in c:\\programdata\\anaconda3\\lib\\site-packages (from cryptography>=1.1.0->adal<2.0.0,>=0.6.0->msrestazure<2.0.0,>=0.4.27->azure-mgmt-datalake-store) (1.14.5)\n",
      "Requirement already satisfied: pycparser in c:\\programdata\\anaconda3\\lib\\site-packages (from cffi>=1.12->cryptography>=1.1.0->adal<2.0.0,>=0.6.0->msrestazure<2.0.0,>=0.4.27->azure-mgmt-datalake-store) (2.20)\n",
      "Requirement already satisfied: certifi>=2017.4.17 in c:\\programdata\\anaconda3\\lib\\site-packages (from msrest<2.0.0,>=0.6.0->msrestazure<2.0.0,>=0.4.27->azure-mgmt-datalake-store) (2020.12.5)\n",
      "Requirement already satisfied: isodate>=0.6.0 in c:\\programdata\\anaconda3\\lib\\site-packages (from msrest<2.0.0,>=0.6.0->msrestazure<2.0.0,>=0.4.27->azure-mgmt-datalake-store) (0.6.1)\n",
      "Requirement already satisfied: requests-oauthlib>=0.5.0 in c:\\programdata\\anaconda3\\lib\\site-packages (from msrest<2.0.0,>=0.6.0->msrestazure<2.0.0,>=0.4.27->azure-mgmt-datalake-store) (1.3.1)\n",
      "Requirement already satisfied: idna<3,>=2.5 in c:\\programdata\\anaconda3\\lib\\site-packages (from requests<3,>=2.0.0->adal<2.0.0,>=0.6.0->msrestazure<2.0.0,>=0.4.27->azure-mgmt-datalake-store) (2.10)\n",
      "Requirement already satisfied: chardet<5,>=3.0.2 in c:\\programdata\\anaconda3\\lib\\site-packages (from requests<3,>=2.0.0->adal<2.0.0,>=0.6.0->msrestazure<2.0.0,>=0.4.27->azure-mgmt-datalake-store) (4.0.0)\n",
      "Requirement already satisfied: urllib3<1.27,>=1.21.1 in c:\\programdata\\anaconda3\\lib\\site-packages (from requests<3,>=2.0.0->adal<2.0.0,>=0.6.0->msrestazure<2.0.0,>=0.4.27->azure-mgmt-datalake-store) (1.26.4)\n",
      "Requirement already satisfied: oauthlib>=3.0.0 in c:\\programdata\\anaconda3\\lib\\site-packages (from requests-oauthlib>=0.5.0->msrest<2.0.0,>=0.6.0->msrestazure<2.0.0,>=0.4.27->azure-mgmt-datalake-store) (3.2.0)\n",
      "Note: you may need to restart the kernel to use updated packages.\n",
      "Requirement already satisfied: azure-datalake-store in c:\\programdata\\anaconda3\\lib\\site-packages (0.0.52)\n",
      "Requirement already satisfied: requests>=2.20.0 in c:\\programdata\\anaconda3\\lib\\site-packages (from azure-datalake-store) (2.25.1)\n",
      "Requirement already satisfied: cffi in c:\\programdata\\anaconda3\\lib\\site-packages (from azure-datalake-store) (1.14.5)\n",
      "Requirement already satisfied: adal>=0.4.2 in c:\\programdata\\anaconda3\\lib\\site-packages (from azure-datalake-store) (1.2.7)\n",
      "Requirement already satisfied: python-dateutil<3,>=2.1.0 in c:\\programdata\\anaconda3\\lib\\site-packages (from adal>=0.4.2->azure-datalake-store) (2.8.1)\n",
      "Requirement already satisfied: cryptography>=1.1.0 in c:\\programdata\\anaconda3\\lib\\site-packages (from adal>=0.4.2->azure-datalake-store) (3.4.7)\n",
      "Requirement already satisfied: PyJWT<3,>=1.0.0 in c:\\programdata\\anaconda3\\lib\\site-packages (from adal>=0.4.2->azure-datalake-store) (2.3.0)\n",
      "Requirement already satisfied: pycparser in c:\\programdata\\anaconda3\\lib\\site-packages (from cffi->azure-datalake-store) (2.20)\n",
      "Requirement already satisfied: six>=1.5 in c:\\programdata\\anaconda3\\lib\\site-packages (from python-dateutil<3,>=2.1.0->adal>=0.4.2->azure-datalake-store) (1.15.0)\n",
      "Requirement already satisfied: idna<3,>=2.5 in c:\\programdata\\anaconda3\\lib\\site-packages (from requests>=2.20.0->azure-datalake-store) (2.10)\n",
      "Requirement already satisfied: chardet<5,>=3.0.2 in c:\\programdata\\anaconda3\\lib\\site-packages (from requests>=2.20.0->azure-datalake-store) (4.0.0)\n",
      "Requirement already satisfied: urllib3<1.27,>=1.21.1 in c:\\programdata\\anaconda3\\lib\\site-packages (from requests>=2.20.0->azure-datalake-store) (1.26.4)\n",
      "Requirement already satisfied: certifi>=2017.4.17 in c:\\programdata\\anaconda3\\lib\\site-packages (from requests>=2.20.0->azure-datalake-store) (2020.12.5)\n",
      "Note: you may need to restart the kernel to use updated packages.\n"
     ]
    }
   ],
   "source": [
    "## Library import\n",
    "import pandas as pd\n",
    "\n",
    "%pip install azure\n",
    "%pip install azure-storage-blob\n",
    "%pip install azure-mgmt-resource\n",
    "%pip install azure-mgmt-datalake-store\n",
    "%pip install azure-datalake-store"
   ]
  },
  {
   "cell_type": "code",
   "execution_count": 9,
   "metadata": {},
   "outputs": [],
   "source": [
    "from pyspark.context import SparkContext\n",
    "from pyspark.sql.session import SparkSession\n",
    "sc = SparkContext('local')\n",
    "spark = SparkSession(sc)"
   ]
  },
  {
   "cell_type": "code",
   "execution_count": null,
   "metadata": {
    "application/vnd.databricks.v1+cell": {
     "inputWidgets": {},
     "nuid": "75161361-26fe-4300-8e56-4a3cc7664bce",
     "showTitle": false,
     "title": ""
    }
   },
   "outputs": [],
   "source": [
    "# Azure Storage Account Name\n",
    "storage_account_name = \"solaramis\"\n",
    "\n",
    "# Azure Storage Account Key\n",
    "storage_account_key = \"sp=r&st=2022-04-04T16:09:13Z&se=2022-04-05T00:09:13Z&spr=https&sv=2020-08-04&sr=c&sig=o6f%2Fo4MvlpHCVappTT1U%2FmEM6Ts2%2F6NiWUG62RONlIY%3D\"\n",
    "storage_account_key = \"aniami\"\n",
    "\n",
    "# Azure Storage Account Source Container\n",
    "container = \"tweetd\"\n",
    "\n",
    "# Set the configuration details to read/write\n",
    "spark.conf.set(\"fs.azure.account.key.{0}.blob.core.windows.net\".format(storage_account_name), storage_account_key)"
   ]
  },
  {
   "cell_type": "code",
   "execution_count": null,
   "metadata": {
    "application/vnd.databricks.v1+cell": {
     "inputWidgets": {},
     "nuid": "173c0fa7-d099-4a04-9ea3-aa9abbce726a",
     "showTitle": false,
     "title": ""
    }
   },
   "outputs": [],
   "source": [
    "# Check if file exists in mounted filesystem, if not create the file\n",
    "if \"Master.xlsm\" not in [file.name for file in dbutils.fs.ls(\"/mnt/solaramis\")]:\n",
    "  dbutils.fs.mount(\n",
    "   source = \"wasbs://{0}@{1}.blob.core.windows.net\".format(container, storage_account_name),\n",
    "   mount_point = \"/mnt/solaramis\",\n",
    "   extra_configs = {\"fs.azure.account.key.{0}.blob.core.windows.net\".format(storage_account_name): storage_account_key}\n",
    "  )\n",
    "  \n",
    " # Unmount filesystem if required\n",
    "  dbutils.fs.unmount(\"/mnt/azurestorage\")"
   ]
  },
  {
   "cell_type": "code",
   "execution_count": null,
   "metadata": {
    "application/vnd.databricks.v1+cell": {
     "inputWidgets": {},
     "nuid": "aea71242-80de-49aa-9368-96903a5d1d2d",
     "showTitle": false,
     "title": ""
    }
   },
   "outputs": [],
   "source": [
    "FuelEff = spark.read.format(\"csv\").option(\"header\", \"true\").load(\"dbfs:/FileStore/shared_uploads/davidwinter1@gmail.com/FuelEfficiency.csv\")\n",
    "MilesTrav = spark.read.format(\"csv\").option(\"header\", \"true\").load(\"dbfs:/FileStore/shared_uploads/davidwinter1@gmail.com/MilesTravelled.csv\")\n",
    "VechPop = spark.read.format(\"csv\").option(\"header\", \"true\").load(\"dbfs:/FileStore/shared_uploads/davidwinter1@gmail.com/VechPop.csv\")"
   ]
  },
  {
   "cell_type": "code",
   "execution_count": null,
   "metadata": {
    "application/vnd.databricks.v1+cell": {
     "inputWidgets": {},
     "nuid": "b80c840a-43d5-4438-ab0e-58785899fd05",
     "showTitle": false,
     "title": ""
    }
   },
   "outputs": [],
   "source": [
    "pd.read_csv(r'sp=r&st=2022-04-05T01:21:03Z&se=2022-04-12T09:21:03Z&spr=https&sv=2020-08-04&sr=b&sig=oOEWABMqjoZXaeHVIMjMKgWwjDb%2F3ixYhAXT2TaO%2FqQ%3D.csv')"
   ]
  },
  {
   "cell_type": "code",
   "execution_count": null,
   "metadata": {
    "ExecuteTime": {
     "end_time": "2021-11-02T07:46:21.661850Z",
     "start_time": "2021-11-02T07:46:21.601012Z"
    },
    "application/vnd.databricks.v1+cell": {
     "inputWidgets": {},
     "nuid": "8aa0f5df-e94b-4fec-9807-f1d6c8107095",
     "showTitle": false,
     "title": ""
    }
   },
   "outputs": [],
   "source": [
    "\n",
    "# Options for pandas\n",
    "pd.options.display.max_columns = 50\n",
    "pd.options.display.max_rows = 30\n",
    "\n",
    "\n",
    "# Autoreload extension\n",
    "if 'autoreload' not in get_ipython().extension_manager.loaded:\n",
    "    %load_ext autoreload\n",
    "    \n",
    "%autoreload 2\n",
    "\n",
    "## Notebook Settings\n",
    "\n",
    "# Change notebook wideth wth the percentage after the width: keyword \n",
    "from IPython.core.display import display, HTML\n",
    "display(HTML(\"<style>.container { width:75% !important; }</style>\"))\n",
    "\n",
    "#By default, Jupyter Notebook sets cells to show output without scrolling. To see the entire view, please either:\n",
    "# 1. press the escape key, then shift and o (o the letter!)\n",
    "# Or\n",
    "# 2. Navigate to cell in the toolbar, then current outputs, then toggle scrolling \n",
    "\n",
    "\n"
   ]
  },
  {
   "cell_type": "code",
   "execution_count": null,
   "metadata": {
    "ExecuteTime": {
     "end_time": "2021-11-02T08:09:49.272894Z",
     "start_time": "2021-11-02T08:09:49.212942Z"
    },
    "application/vnd.databricks.v1+cell": {
     "inputWidgets": {},
     "nuid": "55496097-b4fb-4c79-b390-07d1d401a0b3",
     "showTitle": false,
     "title": ""
    }
   },
   "outputs": [],
   "source": [
    "# We define four empty lists, which we will use to derive our insights  \n",
    "list1 = []\n",
    "list2 = []\n",
    "list3 = []\n",
    "list4 = []\n"
   ]
  },
  {
   "cell_type": "code",
   "execution_count": null,
   "metadata": {
    "ExecuteTime": {
     "end_time": "2021-11-02T08:36:50.266246Z",
     "start_time": "2021-11-02T08:36:41.412676Z"
    },
    "application/vnd.databricks.v1+cell": {
     "inputWidgets": {},
     "nuid": "056b23bf-5309-438a-a2b4-cc29f5c63152",
     "showTitle": false,
     "title": ""
    }
   },
   "outputs": [],
   "source": [
    "# The producer function wil produce insights in batches of ten. To view these clearly, I suggest selecting the cell, pressing the escape key and then shift and o together. When you'd like to see the rest of the notebook, press the same combinaton again \n",
    "\n",
    "\n",
    "# List of filenames to read in\n",
    "DATA_FILES = [\n",
    "'Site_0.csv',\n",
    "'Site_1.csv',\n",
    "'Site_2.csv']\n",
    "\n",
    "# Data import and Preprocessing\n",
    "\n",
    "# The provided view data and a time window across all domains form the default arguments \n",
    "def producer(filenames = DATA_FILES, Ceiling_Minute = 60, Floor_Minute =  0, Ceiling_Second = 60, Floor_Second = 0):\n",
    "    \n",
    "    for filename in filenames:\n",
    "        views = pd.read_csv(filename)\n",
    "        \n",
    "        #We check the validity of the input time window here so code does not run before time indexes are out of date \n",
    "        if Ceiling_Minute < Floor_Minute:\n",
    "            raise Exception(\"Sorry, the lowest input minute, the Floor_ Minute, is greater than input Ceiling_ Minute, no  would be returned\")\n",
    "        if Ceiling_Second < Floor_Second:\n",
    "            raise Exception(\"Sorry, the lowest input second, the Floor_ Second, is greater than input Ceiling_ Second, no  would be returned\")\n",
    "        else: \n",
    "            print('Input time window, the minimum and maximum input second and minute, are valid')\n",
    "        \n",
    "        # Feature engineering -\n",
    "        views['Site'] = filename.replace('Site_','').replace('.csv','')\n",
    "        views['SiteViews'] = views.shape[0]\n",
    "        assert  len(views) > 1, 'Ingested SiteVew file appears empty'\n",
    "        \n",
    "        #We sort before we split into blocks of ten rows \n",
    "        views = views.sort_values(by = 'timestamp')\n",
    "        \n",
    "        views.Timestamp = pd.to_datetime(views.timestamp) \n",
    "\n",
    "        views.Timestamp = pd.to_datetime(views.Timestamp,format='%y/%m/%d %H:%M:%S')\n",
    "\n",
    "\n",
    "\n",
    "\n",
    "        assert (views.Timestamp > pd.datetime.now()).sum() < views.Timestamp.notna().count(), \"View time appears to contain labels in the future\"\n",
    "\n",
    "        if (views.Timestamp > pd.datetime.now()).sum() > views.Timestamp.notna().count():\n",
    "            print(\"Warining! View time appears to contain labels with future dates\")\n",
    "        elif views.Timestamp.dt.hour.nunique() > 1:\n",
    "            print(\"Warining! View time contains labels stretching over multiple hours! Consider reformatting code to analyse hours\")\n",
    "\n",
    "        elif views.Timestamp.dt.date.nunique() >1:\n",
    "            print(\"Warining! View time contains labels stretching over multiple days! Consider reformitting code to analyse dates\")\n",
    "\n",
    "        else: \n",
    "            print(\"View time is always labeled with historic dates, as we'd hope! All views appear to be within the same date, within the same hour\")\n",
    "        \n",
    "        \n",
    "\n",
    "         # Creating Second and Minute features, used three and four lines below to ensuring time labels are within expected periods\n",
    "         # Also used to generate insights \n",
    "        views['Second'] = views.Timestamp.dt.second\n",
    "        views['Minute'] = views.Timestamp.dt.minute\n",
    "        \n",
    "        \n",
    "        views = views[views.Second.between(Floor_Second, Ceiling_Second)]\n",
    "        views = views[views.Minute.between(Floor_Minute, Ceiling_Minute)]\n",
    "        \n",
    "        \n",
    "        #Scaling data type - \n",
    "        '''Although not as relevant to the small data sets you kindly provided, streamed data can become quite large!\n",
    "        df.info() will give us some high level information about our dataframe, including its size, information about data types and memory usage.\n",
    "        By default, pandas approximates of the memory usage of the dataframe to save time. Because we’re interested in accuracy, we’ll set the memory_usage parameter to 'deep' to get an accurate number.\n",
    "        Pandas Int8 ranges between [-128 : 127], and Int16 between [-32768 : 32767]. With the describe method, we know 3/5 of our data types fit into int8 dtypes, 2/5 into int 36. However, other batches may produce different streaming methods.\n",
    "        I have therefore used the errors='raise' argument to allert felow SN collegues if data will not fit in the provided type. In such a situation, use a larger datatype. \n",
    "        If this results in memory being problematc, we could load in smaller chunks, or use libaries instead of pandas that allow for lazy evaluation, where  computation is executed only when necessary '''\n",
    "        \n",
    "        print('------------------------------------------------------------------------------------------------------------------------------------')\n",
    "\n",
    "        \n",
    "        print('Data description before data types are changed:')\n",
    "        print(views.describe())\n",
    "        print('-------------------------------------------------------------')\n",
    "   \n",
    "        print('Memory use and DTypes before data types are changed:')\n",
    "        info = views.info(memory_usage='deep')\n",
    "\n",
    "        #Henceforth, pre-processing and insight extraction is performed ten rows at a time, by iterating through the length of each file in Steps of ten \n",
    "        for i in range(0,views.shape[0],10):  \n",
    "              \n",
    "            \n",
    "            tenr = views.iloc[i:i+10]\n",
    "            \n",
    "            #Could also use replace, someonelse decide \n",
    "            tenr.columns = ['ArticleId', 'UserId', 'Timestamp', 'Site', 'SiteViews', 'Second', 'Minute']\n",
    "\n",
    "\n",
    "            tenr = tenr[['Timestamp', 'Second', 'Minute', 'ArticleId', 'UserId', 'Site',  'SiteViews']]\n",
    "            \n",
    "\n",
    "            \n",
    "\n",
    "\n",
    "\n",
    "\n",
    "\n",
    "\n",
    "\n",
    "\n",
    "\n",
    "            #Reducing data type after splitting into rows of tens allows specific sizing of the correct data types.  \n",
    "            if (tenr.SiteViews.astype('int64')).any() > 32767:\n",
    "                tenr.SiteViews =  tenr.SiteViews.astype('int64', errors='raise')\n",
    "            elif tenr.SiteViews.astype('int32').between(127, 32767).any():\n",
    "                tenr.SiteViews =  tenr.SiteViews.astype('int32', errors='raise')\n",
    "            else:\n",
    "                tenr.SiteViews =  tenr.SiteViews.astype('int16', errors='raise')\n",
    "\n",
    "\n",
    "            if tenr.UserId.astype('int64').max() > 32767:\n",
    "                tenr.UserId =  tenr.UserId.astype('int64', errors='raise')\n",
    "            elif tenr.UserId.astype('int32').between(127, 32767).any():\n",
    "                tenr.UserId =  tenr.UserId.astype('int32', errors='raise')\n",
    "            else:\n",
    "                tenr.UserId =  tenr.UserId.astype('int16', errors='raise')    \n",
    "\n",
    "           \n",
    "\n",
    "\n",
    "            tenr[['Second', 'Minute', 'Site']] = tenr[['Second', 'Minute', 'Site']].astype('int8', errors='raise')\n",
    "            tenr[['ArticleId']] = tenr[['ArticleId']].astype('category')\n",
    "            \n",
    "            print('------------------------------------------------------------------------------------------------------------------------------------')\n",
    "            print('Memory usage after data types are changed:')\n",
    "            tenr.info(memory_usage='deep')            \n",
    "            \n",
    "            #Here I create a clone of the Article Id feature of our dataset. This is not necessary for calculations, but does mean we can group one whilst aggregate on the other Id, making outputing a clean verson of our results for part two slighly easier. \n",
    "            #This is not necessary for part one, as we are aggregating on seperate features, nor part three or four, where we cam aggregate on the generic Timestamp column, rather than the minute or second features  \n",
    "            tenr['ArticleIdForCount'] =tenr['ArticleId'] \n",
    "            tenr['MinuteForCount'] =tenr['Minute'] \n",
    "            \n",
    "            \n",
    "\n",
    "            # Analysis \n",
    "            ## Generate insights in batches of ten and store in iterable, mutable objects (lists)  \n",
    "    \n",
    "                  \n",
    "            # 1. The Site with the most article views\n",
    "\n",
    "\n",
    "                                                                   #The pandas group by function will return a multi-coluumn index. This can make calling columns, for sorting for example, a little fiddly.\n",
    "                                                                                                                        #For legibility, and my efficiency, I like to transpose the groupby result, the reset its index, and transpose back \n",
    "            MaxSiteViewsDF =  tenr.groupby(['Site'], as_index = False).agg({'SiteViews': ['mean']}).T.reset_index(drop=True).T\n",
    "            MaxSiteViewsDF.columns = ['Site', 'MeanSiteViews']\n",
    "\n",
    "            columns=['SingleSiteWithMaxView', 'MaxSiteViewsRow']\n",
    "            # Here, we sort by the number of Site views in each Site, highest ontop with the asceding False argument, then extract just the first row. We could also extract the first row with the .head method. \n",
    "            MaxSiteViewsRow = MaxSiteViewsDF.sort_values(by = MaxSiteViewsDF.columns[-1], ascending=False).iloc[:1]\n",
    "            SiteWithMaxView = MaxSiteViewsRow.iloc[:,0]\n",
    "            SiteWithMaxView.columns = ['Site With Highest Views', 'Site Views']\n",
    "\n",
    "            \n",
    "            SingleSiteWithMaxView = SiteWithMaxView.iloc[-1] \n",
    "            \n",
    "            \n",
    "            print('Site With Highest Views in batch:', SingleSiteWithMaxView)\n",
    "            print('------------------------------------------------------------------------------------------------------------------------------------')\n",
    "\n",
    "            list1.append(SingleSiteWithMaxView) \n",
    "\n",
    "            temporary_df1 = pd.DataFrame([SingleSiteWithMaxView], columns=['MaxSiteViewsRow'])                                                         \n",
    "\n",
    "\n",
    "\n",
    "\n",
    "\n",
    "\n",
    "            #2. The most common paper\n",
    "\n",
    "\n",
    "            MaxArtcleviewsDF = tenr.groupby(['ArticleId'], as_index = False).agg({'ArticleIdForCount': ['count']}).T.reset_index(drop=True).T\n",
    "            MaxArtcleviewsDF.columns = ['ArticleId', 'ArticleIdForCount']\n",
    "\n",
    "            ArticleIdviewsRow = MaxArtcleviewsDF.sort_values(by = MaxArtcleviewsDF.columns[-1], ascending=False).iloc[:1]\n",
    "            ArticleIdwithMaxView = ArticleIdviewsRow.iloc[:,0]\n",
    "            ArticleIdwithMaxView.columns = ['Article With Highest views', 'Article views']\n",
    "            ArticleIdOnlywithMaxView = ArticleIdwithMaxView.iloc[-1]\n",
    "            \n",
    "            list2.append(ArticleIdOnlywithMaxView)\n",
    "\n",
    "\n",
    "\n",
    "\n",
    "            print('Article With Highest Views in batch:', ArticleIdOnlywithMaxView)\n",
    "            print('------------------------------------------------------------------------------------------------------------------------------------')\n",
    "\n",
    "\n",
    "            # 3. Busiest 1 minute period\n",
    "\n",
    "\n",
    "            MaxArtcleviewsDF = tenr.groupby(['Minute'], as_index = False).agg({'MinuteForCount': ['count']}).T.reset_index(drop=True).T\n",
    "            MaxArtcleviewsDF.columns = ['Minute', 'MinuteForCount']\n",
    "\n",
    "            MinuteviewsRow = MaxArtcleviewsDF.sort_values(by = MaxArtcleviewsDF.columns[-1], ascending=False).iloc[:1]\n",
    "            MinutewithMaxView = MinuteviewsRow.iloc[:,0]\n",
    "            MinutewithMaxView.columns = ['Minute With Highest views', 'Minute views']\n",
    "            MinuteOnlywithMaxView = MinutewithMaxView.iloc[-1]\n",
    "\n",
    "            list3.append(MinuteOnlywithMaxView)\n",
    "\n",
    "\n",
    "            ''' I decided to display the minute the the greatest number of views in addition to the views of that minute. \n",
    "             SN's sites will go under significantly more stress at peak times, spotting temporal patterns could help prevent problems in the past, or identify the aetiology of known patterns. \n",
    "             The two string method removes the index from the displayed output. The index returns the dataframe row number, and, although corresponding to time in our sorted dataframe, is unlikely to generate meaningful insights to our user. '''\n",
    "            print('Article With Highest Views in batch:', MinutewithMaxView.to_string())\n",
    "            print('------------------------------------------------------------------------------------------------------------------------------------')\n",
    "\n",
    "\n",
    "\n",
    "\n",
    "             # 4.  Suspected Robot Users - continuous clicks on different articles by the same\n",
    "\n",
    "\n",
    "            ''' I have also explained how I defined a robot user. \n",
    "            We could also define a robot user as having greater clicks in a time window than the user average by a certain quantity, \n",
    "            eg.MaxSecondviewsDFSorted[MaxSecondviewsDFSorted['views in Suspect Second:'] >  (MaxSecondviewsDFSorted['views in Suspect Second:'].mean() * 3)] will return information on users with more than three times the sample average '''\n",
    "            \n",
    "            \n",
    "            tenr['ix'] = tenr.index\n",
    "\n",
    "            RoboGroup = tenr.groupby(['UserId', 'Timestamp'], as_index = False).agg({'ArticleId': ['count']}).T.reset_index(drop=True).T\n",
    "            RoboGroup.columns = ['UserId', 'Second','ArticleIdCount']\n",
    "            RoboGroup.set_index('UserId')\n",
    "            topRoboRow = RoboGroup.sort_values(by = 'ArticleIdCount', ascending=False).head(1)\n",
    "            topRoboRowID = topRoboRow.UserId\n",
    "            if topRoboRow.ArticleIdCount.any() > 5:  \n",
    "                list4.append(topRoboRowID)\n",
    "                print('Warning a potential robot is present - A robot is identified when a user is responsible for more than 12 views a second') \n",
    "            else: \n",
    "                print('A robot is identified when a user is responsible for more than 12 views a second, no robots appear to be present in this ten view batch') \n",
    "           \n",
    "\n",
    "\n",
    "producer(filenames = DATA_FILES, Ceiling_Minute = 60, Floor_Minute =  6, Ceiling_Second = 60, Floor_Second = 0)"
   ]
  },
  {
   "cell_type": "code",
   "execution_count": null,
   "metadata": {
    "application/vnd.databricks.v1+cell": {
     "inputWidgets": {},
     "nuid": "3d80090a-37f5-49f8-93ee-1cd81d46a0c4",
     "showTitle": false,
     "title": ""
    }
   },
   "outputs": [],
   "source": [
    "# Consumer function to display inisghts from the entirity of viewed data ="
   ]
  },
  {
   "cell_type": "code",
   "execution_count": null,
   "metadata": {
    "ExecuteTime": {
     "end_time": "2021-11-02T08:36:51.424788Z",
     "start_time": "2021-11-02T08:36:51.038644Z"
    },
    "application/vnd.databricks.v1+cell": {
     "inputWidgets": {},
     "nuid": "963cf3a0-35c4-48cb-9ec6-5f40b8fd0bb3",
     "showTitle": false,
     "title": ""
    }
   },
   "outputs": [],
   "source": [
    "def consumer(Q1, Q2, Q3, Q4): \n",
    "    if Q1 == 1:\n",
    "        print('Site With Greatest Views from all batches:', max(list1,key=list1.count)) \n",
    "    if Q2 == 1:\n",
    "        print('Article With Greatest Views from all batches:', max(list2,key=list2.count)) \n",
    "    if Q3 == 1:\n",
    "        print('Minute With Greatest Views from all batches:', max(list3,key=list3.count)) \n",
    "    if Q4 == 1:\n",
    "        print('No & Id: of Potential Robots')\n",
    "        print(list4[0])\n",
    "consumer(Q1 = 1, Q2 = 1,  Q3 = 1, Q4 = 1) "
   ]
  },
  {
   "cell_type": "markdown",
   "metadata": {
    "application/vnd.databricks.v1+cell": {
     "inputWidgets": {},
     "nuid": "97ff21d1-ecdb-4233-beed-825955df97e3",
     "showTitle": false,
     "title": ""
    }
   },
   "source": [
    "# Additional outlier function\n",
    "\n",
    "## Often streamed data produces anomolies we would not expect  \n",
    "## Outlier removal was not included in the question and so could affect exped results. Hence I have withdrawn presence from within the core function"
   ]
  },
  {
   "cell_type": "code",
   "execution_count": null,
   "metadata": {
    "application/vnd.databricks.v1+cell": {
     "inputWidgets": {},
     "nuid": "bbdebb99-dd12-418b-8215-c96d490b9312",
     "showTitle": false,
     "title": ""
    }
   },
   "outputs": [],
   "source": [
    "# Lists numeric columns we can pick to extract outliers \n",
    "print('possibleColsToTrim', producer.viewsSorted.select_dtypes('number').columns) \n",
    "\n",
    "# Pick columns to extract/view outliers  \n",
    "\n",
    "ColsToTrim = [ 'UserId', 'SiteViews']\n",
    "\n",
    "  \n"
   ]
  },
  {
   "cell_type": "code",
   "execution_count": null,
   "metadata": {
    "application/vnd.databricks.v1+cell": {
     "inputWidgets": {},
     "nuid": "d8779144-4deb-433f-a0e9-14f06b2e4832",
     "showTitle": false,
     "title": ""
    }
   },
   "outputs": [],
   "source": [
    "def remove_outlier(ColsToTrim, floor = 0.05, ceiling = 0.95):\n",
    "    df_in = producer.viewsSorted[ColsToTrim]\n",
    "    q1 = df_in.quantile(floor)\n",
    "    q3 = df_in.quantile(ceiling)\n",
    "    iqr = q3-q1 #Interquartile range\n",
    "    fence_low  = q1-1.5*iqr\n",
    "    fence_high = q3+1.5*iqr\n",
    "    df_trim = df_in[(df_in > fence_low) & (df_in < fence_high)]\n",
    "    df_out = pd.concat([df_trim, producer.viewsSorted], axis=1).dropna(subset = ColsToTrim)\n",
    "    if len(df_trim) * 10 > len(df_in):\n",
    "        print('Waring! - More than 10% of data will be removed with set input columns, Floor and Ceiling combo!')\n",
    "    return df_out\n",
    "remove_outlier(ColsToTrim, 0.4, 0.65)"
   ]
  }
 ],
 "metadata": {
  "application/vnd.databricks.v1+notebook": {
   "dashboards": [],
   "language": "python",
   "notebookMetadata": {
    "pythonIndentUnit": 4
   },
   "notebookName": "3. Animal Friends Twitter  Code Processing",
   "notebookOrigID": 1156729849082788,
   "widgets": {}
  },
  "kernelspec": {
   "display_name": "Python 3",
   "language": "python",
   "name": "python3"
  },
  "language_info": {
   "codemirror_mode": {
    "name": "ipython",
    "version": 3
   },
   "file_extension": ".py",
   "mimetype": "text/x-python",
   "name": "python",
   "nbconvert_exporter": "python",
   "pygments_lexer": "ipython3",
   "version": "3.8.8"
  },
  "nbTranslate": {
   "displayLangs": [
    "*"
   ],
   "hotkey": "alt-t",
   "langInMainMenu": true,
   "sourceLang": "en",
   "targetLang": "fr",
   "useGoogleTranslate": true
  },
  "toc": {
   "base_numbering": 1,
   "nav_menu": {},
   "number_sections": true,
   "sideBar": true,
   "skip_h1_title": false,
   "title_cell": "Table of Contents",
   "title_sidebar": "Contents",
   "toc_cell": false,
   "toc_position": {},
   "toc_section_display": true,
   "toc_window_display": false
  },
  "varInspector": {
   "cols": {
    "lenName": 16,
    "lenType": 16,
    "lenVar": 40
   },
   "kernels_config": {
    "python": {
     "delete_cmd_postfix": "",
     "delete_cmd_prefix": "del ",
     "library": "var_list.py",
     "varRefreshCmd": "print(var_dic_list())"
    },
    "r": {
     "delete_cmd_postfix": ") ",
     "delete_cmd_prefix": "rm(",
     "library": "var_list.r",
     "varRefreshCmd": "cat(var_dic_list()) "
    }
   },
   "types_to_exclude": [
    "module",
    "function",
    "builtin_function_or_method",
    "instance",
    "_Feature"
   ],
   "window_display": false
  }
 },
 "nbformat": 4,
 "nbformat_minor": 1
}
