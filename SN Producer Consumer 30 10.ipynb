{
 "cells": [
  {
   "cell_type": "markdown",
   "metadata": {},
   "source": [
    "# Title\n",
    "The title of the notebook should be coherent with file name. Namely, file name should be:    \n",
    "*author's initials_progressive number_title.ipynb*    \n",
    "For example:    \n",
    "*EF_01_Data Exploration.ipynb*\n",
    "\n",
    "## Purpose\n",
    "State the purpose of the notebook.\n",
    "\n",
    "## Methodology\n",
    "Quickly describe assumptions and processing steps.\n",
    "\n",
    "## WIP - improvements\n",
    "Use this section only if the notebook is not final.\n",
    "\n",
    "Notable TODOs:\n",
    "- todo 1;\n",
    "- todo 2;\n",
    "- todo 3.\n",
    "\n",
    "## Results\n",
    "Describe and comment the most important results.\n",
    "\n",
    "## Suggested next steps\n",
    "State suggested next steps, based on results obtained in this notebook."
   ]
  },
  {
   "cell_type": "markdown",
   "metadata": {},
   "source": [
    "# Setup\n",
    "\n",
    "## Library import\n",
    "We import all the required Python libraries"
   ]
  },
  {
   "cell_type": "code",
   "execution_count": 1,
   "metadata": {
    "ExecuteTime": {
     "end_time": "2021-10-30T10:42:49.538570Z",
     "start_time": "2021-10-30T10:42:44.326701Z"
    }
   },
   "outputs": [
    {
     "data": {
      "text/html": [
       "        <script type=\"text/javascript\">\n",
       "        window.PlotlyConfig = {MathJaxConfig: 'local'};\n",
       "        if (window.MathJax) {MathJax.Hub.Config({SVG: {font: \"STIX-Web\"}});}\n",
       "        if (typeof require !== 'undefined') {\n",
       "        require.undef(\"plotly\");\n",
       "        requirejs.config({\n",
       "            paths: {\n",
       "                'plotly': ['https://cdn.plot.ly/plotly-latest.min']\n",
       "            }\n",
       "        });\n",
       "        require(['plotly'], function(Plotly) {\n",
       "            window._Plotly = Plotly;\n",
       "        });\n",
       "        }\n",
       "        </script>\n",
       "        "
      ]
     },
     "metadata": {},
     "output_type": "display_data"
    },
    {
     "data": {
      "text/html": [
       "        <script type=\"text/javascript\">\n",
       "        window.PlotlyConfig = {MathJaxConfig: 'local'};\n",
       "        if (window.MathJax) {MathJax.Hub.Config({SVG: {font: \"STIX-Web\"}});}\n",
       "        if (typeof require !== 'undefined') {\n",
       "        require.undef(\"plotly\");\n",
       "        requirejs.config({\n",
       "            paths: {\n",
       "                'plotly': ['https://cdn.plot.ly/plotly-latest.min']\n",
       "            }\n",
       "        });\n",
       "        require(['plotly'], function(Plotly) {\n",
       "            window._Plotly = Plotly;\n",
       "        });\n",
       "        }\n",
       "        </script>\n",
       "        "
      ]
     },
     "metadata": {},
     "output_type": "display_data"
    }
   ],
   "source": [
    "# Data manipulation\n",
    "import pandas as pd\n",
    "import numpy as np\n",
    "\n",
    "# Options for pandas\n",
    "pd.options.display.max_columns = 50\n",
    "pd.options.display.max_rows = 30\n",
    "\n",
    "# Visualizations\n",
    "import plotly\n",
    "import plotly.graph_objs as go\n",
    "import plotly.offline as ply\n",
    "plotly.offline.init_notebook_mode(connected=True)\n",
    "\n",
    "import cufflinks as cf\n",
    "cf.go_offline(connected=True)\n",
    "cf.set_config_file(theme='white')\n",
    "\n",
    "import matplotlib as plt\n",
    "\n",
    "# Autoreload extension\n",
    "if 'autoreload' not in get_ipython().extension_manager.loaded:\n",
    "    %load_ext autoreload\n",
    "    \n",
    "%autoreload 2"
   ]
  },
  {
   "cell_type": "markdown",
   "metadata": {},
   "source": [
    "## Local library import\n",
    "We import all the required local libraries libraries"
   ]
  },
  {
   "cell_type": "code",
   "execution_count": 2,
   "metadata": {
    "ExecuteTime": {
     "end_time": "2021-10-30T10:42:49.662424Z",
     "start_time": "2021-10-30T10:42:49.540457Z"
    }
   },
   "outputs": [],
   "source": [
    "# Include local library paths\n",
    "import sys\n",
    "# sys.path.append('path/to/local/lib') # uncomment and fill to import local libraries\n",
    "\n",
    "# Import local libraries"
   ]
  },
  {
   "cell_type": "markdown",
   "metadata": {},
   "source": [
    "# Parameter definition\n",
    "We set all relevant parameters for our notebook. By convention, parameters are uppercase, while all the \n",
    "other variables follow Python's guidelines."
   ]
  },
  {
   "cell_type": "markdown",
   "metadata": {},
   "source": [
    "\n",
    "# Data import\n",
    "We retrieve all the required data for the analysis."
   ]
  },
  {
   "cell_type": "markdown",
   "metadata": {},
   "source": [
    "# Data processing\n",
    "Put here the core of the notebook. Feel free di further split this section into subsections."
   ]
  },
  {
   "cell_type": "markdown",
   "metadata": {},
   "source": [
    "# References\n",
    "We report here relevant references:\n",
    "1. author1, article1, journal1, year1, url1\n",
    "2. author2, article2, journal2, year2, url2"
   ]
  },
  {
   "cell_type": "code",
   "execution_count": 7,
   "metadata": {
    "ExecuteTime": {
     "end_time": "2021-10-30T11:00:59.198445Z",
     "start_time": "2021-10-30T11:00:59.061708Z"
    }
   },
   "outputs": [],
   "source": [
    "DATA_FILES = [\n",
    "'Site_0.csv',\n",
    "'Site_1.csv',\n",
    "'Site_2.csv',\n",
    "\n",
    "]"
   ]
  },
  {
   "cell_type": "code",
   "execution_count": 22,
   "metadata": {
    "ExecuteTime": {
     "end_time": "2021-10-30T11:09:29.018110Z",
     "start_time": "2021-10-30T11:09:28.900123Z"
    }
   },
   "outputs": [
    {
     "data": {
      "text/plain": [
       "<generator object producer at 0x000001F5B8CED820>"
      ]
     },
     "execution_count": 22,
     "metadata": {},
     "output_type": "execute_result"
    }
   ],
   "source": [
    "#Defined time window here to improve efficency \n",
    "\n",
    "def producer(Ceiling_Minute =  np.inf, Floor_Minute = np.NINF, Ceiling_Second = np.inf, Floor_Second = np.NINF):\n",
    "    \n",
    "    if Ceiling_Minute < Floor_Minute:\n",
    "        raise Exception(\"Sorry, the lowest input minute, the Floor_ Minute, is greater than input Ceiling_ Minute, no  would be returned\")\n",
    "    if Ceiling_Second < Floor_Second:\n",
    "        raise Exception(\"Sorry, the lowest input second, the Floor_ Second, is greater than input Ceiling_ Second, no  would be returned\")\n",
    "\n",
    "        \n",
    "    print('------------------------------------------------------------------------------------------------------------------------------------')\n",
    "   \n",
    "\n",
    "    \n",
    "    \n",
    "    for filename in DATA_FILES:\n",
    "        File = pd.read_csv(filename)#, usecols=[\"user_id\"]) #UserID has low data size \n",
    "        File['Site'] = filename.replace('Site_','').replace('.csv','')\n",
    "        File['SiteViews'] = File.shape[0]\n",
    "        assert len(File) > 1, 'Ingested SiteVew file appears empty'\n",
    "        File = File.sort_values(by='timestamp')\n",
    "        File.info() \n",
    " \n",
    "       \n",
    "\n",
    "\n",
    "        \n",
    "        \n",
    "        #yield column_length.\n",
    "        for i in range(0,File.shape[0],10): #change to time window \n",
    "                print(i)\n",
    "                tenr = File.iloc[i:i+10]\n",
    "\n",
    "                print(tenr)\n",
    "                producer.tenr = tenr\n",
    "                #yield i\n",
    "\n",
    "                # Creating Second and Minute features, ensuring time abels are within expected periods \n",
    "                tenr.timestamp = pd.to_datetime(tenr.timestamp) \n",
    "\n",
    "                tenr.timestamp = pd.to_datetime(tenr.timestamp,format='%y/%m/%d %H:%M:%S')\n",
    "                \n",
    "#                 print('Time Window Analysed:     ',  pd.to_datetime(tenr.timestamp[0].date).drop_duplicates().to_string(index = False), '   ', pd.to_datetime(tenr.timestamp[0].hour).drop_duplicates().to_string(index = False),'hour     ',\n",
    "#                 Ceiling_Minute, 'min :', Ceiling_Second, 'sec -', Floor_Minute, 'min :', Floor_Second , 'sec')\n",
    "                \n",
    "                \n",
    "                assert (tenr.timestamp > pd.datetime.now()).sum() < tenr.timestamp.notna().count(), \"View time appears to contain labels in the future\"\n",
    "\n",
    "                if (tenr.timestamp > pd.datetime.now()).sum() > tenr.timestamp.notna().count():\n",
    "                    print(\"Warining! View time appears to contain labels with future dates\")\n",
    "                elif tenr.timestamp.dt.hour.nunique() > 1:\n",
    "                    print(\"Warining! View time contains labels stretching over multiple hours! Consider reformatting code to analyse hours\")\n",
    "\n",
    "                elif tenr.timestamp.dt.date.nunique() >1:\n",
    "                        print(\"Warining! View time contains labels stretching over multiple days! Consider reformitting code to analyse dates\")\n",
    "\n",
    "                else: \n",
    "                    print(\"View time is always labeled with historic dates, as we'd hope! All time labels appear to be within the same date, within the same hour\")\n",
    "                \n",
    "                \n",
    "                tenr['Second'] = tenr.timestamp.dt.second\n",
    "                tenr['Minute'] = tenr.timestamp.dt.minute\n",
    "\n",
    "\n",
    "                MinSecond = tenr['Second'] > Floor_Second\n",
    "                MaxSecond = tenr['Second'] < Ceiling_Second\n",
    "                MinMinute = tenr['Minute'] > Floor_Minute\n",
    "                MaxMinute = tenr['Minute'] < Ceiling_Minute\n",
    "                TimeWindow = tenr[(MinSecond)  & (MaxSecond)   & (MinMinute) & (MaxMinute)]\n",
    "                \n",
    "                print('tenr')\n",
    "                \n",
    "                #Could also use replace, someonelse decide \n",
    "                tenr.columns = ['ArticleId', 'UserId', 'Timestamp', 'Site', 'SiteViews', 'Second', 'Minute']\n",
    "                print('tenr')  \n",
    "                # tenr = tenr[['Timestamp', 'Second', 'Minute', 'ArticleId', 'UserId', 'Site',  'SiteViews']]\n",
    "                tenr.describe()\n",
    "\n",
    "\n",
    "                producer.tenr = tenr \n",
    "                yield  producer.tenr\n",
    "                \n",
    "                    \n",
    "\n",
    "producer(Ceiling_Minute =  np.inf, Floor_Minute = np.NINF, Ceiling_Second = np.inf, Floor_Second = np.NINF)"
   ]
  },
  {
   "cell_type": "code",
   "execution_count": 23,
   "metadata": {
    "ExecuteTime": {
     "end_time": "2021-10-30T11:09:29.504553Z",
     "start_time": "2021-10-30T11:09:29.388052Z"
    }
   },
   "outputs": [],
   "source": [
    "produce = producer() "
   ]
  },
  {
   "cell_type": "code",
   "execution_count": 24,
   "metadata": {
    "ExecuteTime": {
     "end_time": "2021-10-30T11:09:30.192066Z",
     "start_time": "2021-10-30T11:09:30.037647Z"
    }
   },
   "outputs": [
    {
     "name": "stdout",
     "output_type": "stream",
     "text": [
      "------------------------------------------------------------------------------------------------------------------------------------\n",
      "<class 'pandas.core.frame.DataFrame'>\n",
      "Int64Index: 1178 entries, 0 to 1177\n",
      "Data columns (total 5 columns):\n",
      " #   Column     Non-Null Count  Dtype \n",
      "---  ------     --------------  ----- \n",
      " 0   doc_id     1178 non-null   object\n",
      " 1   user_id    1178 non-null   int64 \n",
      " 2   timestamp  1178 non-null   object\n",
      " 3   Site       1178 non-null   object\n",
      " 4   SiteViews  1178 non-null   int64 \n",
      "dtypes: int64(2), object(3)\n",
      "memory usage: 55.2+ KB\n",
      "0\n",
      "   doc_id  user_id            timestamp Site  SiteViews\n",
      "0  12-163      553  2020-03-01T12:00:00    0       1178\n",
      "1  10-125      324  2020-03-01T12:00:03    0       1178\n",
      "2  10-181      254  2020-03-01T12:00:05    0       1178\n",
      "3  10-156      698  2020-03-01T12:00:06    0       1178\n",
      "4  12-127      602  2020-03-01T12:00:08    0       1178\n",
      "5  12-123      726  2020-03-01T12:00:10    0       1178\n",
      "6  13-105      413  2020-03-01T12:00:14    0       1178\n",
      "7  12-166      805  2020-03-01T12:00:15    0       1178\n",
      "9  10-148      932  2020-03-01T12:00:19    0       1178\n",
      "8  12-154      356  2020-03-01T12:00:19    0       1178\n",
      "View time is always labeled with historic dates, as we'd hope! All time labels appear to be within the same date, within the same hour\n",
      "tenr\n",
      "tenr\n"
     ]
    },
    {
     "name": "stderr",
     "output_type": "stream",
     "text": [
      "<ipython-input-22-6b2bd6eb528b>:47: FutureWarning:\n",
      "\n",
      "The pandas.datetime class is deprecated and will be removed from pandas in a future version. Import from datetime module instead.\n",
      "\n",
      "<ipython-input-22-6b2bd6eb528b>:49: FutureWarning:\n",
      "\n",
      "The pandas.datetime class is deprecated and will be removed from pandas in a future version. Import from datetime module instead.\n",
      "\n"
     ]
    },
    {
     "data": {
      "text/html": [
       "<div>\n",
       "<style scoped>\n",
       "    .dataframe tbody tr th:only-of-type {\n",
       "        vertical-align: middle;\n",
       "    }\n",
       "\n",
       "    .dataframe tbody tr th {\n",
       "        vertical-align: top;\n",
       "    }\n",
       "\n",
       "    .dataframe thead th {\n",
       "        text-align: right;\n",
       "    }\n",
       "</style>\n",
       "<table border=\"1\" class=\"dataframe\">\n",
       "  <thead>\n",
       "    <tr style=\"text-align: right;\">\n",
       "      <th></th>\n",
       "      <th>ArticleId</th>\n",
       "      <th>UserId</th>\n",
       "      <th>Timestamp</th>\n",
       "      <th>Site</th>\n",
       "      <th>SiteViews</th>\n",
       "      <th>Second</th>\n",
       "      <th>Minute</th>\n",
       "    </tr>\n",
       "  </thead>\n",
       "  <tbody>\n",
       "    <tr>\n",
       "      <th>0</th>\n",
       "      <td>12-163</td>\n",
       "      <td>553</td>\n",
       "      <td>2020-03-01 12:00:00</td>\n",
       "      <td>0</td>\n",
       "      <td>1178</td>\n",
       "      <td>0</td>\n",
       "      <td>0</td>\n",
       "    </tr>\n",
       "    <tr>\n",
       "      <th>1</th>\n",
       "      <td>10-125</td>\n",
       "      <td>324</td>\n",
       "      <td>2020-03-01 12:00:03</td>\n",
       "      <td>0</td>\n",
       "      <td>1178</td>\n",
       "      <td>3</td>\n",
       "      <td>0</td>\n",
       "    </tr>\n",
       "    <tr>\n",
       "      <th>2</th>\n",
       "      <td>10-181</td>\n",
       "      <td>254</td>\n",
       "      <td>2020-03-01 12:00:05</td>\n",
       "      <td>0</td>\n",
       "      <td>1178</td>\n",
       "      <td>5</td>\n",
       "      <td>0</td>\n",
       "    </tr>\n",
       "    <tr>\n",
       "      <th>3</th>\n",
       "      <td>10-156</td>\n",
       "      <td>698</td>\n",
       "      <td>2020-03-01 12:00:06</td>\n",
       "      <td>0</td>\n",
       "      <td>1178</td>\n",
       "      <td>6</td>\n",
       "      <td>0</td>\n",
       "    </tr>\n",
       "    <tr>\n",
       "      <th>4</th>\n",
       "      <td>12-127</td>\n",
       "      <td>602</td>\n",
       "      <td>2020-03-01 12:00:08</td>\n",
       "      <td>0</td>\n",
       "      <td>1178</td>\n",
       "      <td>8</td>\n",
       "      <td>0</td>\n",
       "    </tr>\n",
       "    <tr>\n",
       "      <th>5</th>\n",
       "      <td>12-123</td>\n",
       "      <td>726</td>\n",
       "      <td>2020-03-01 12:00:10</td>\n",
       "      <td>0</td>\n",
       "      <td>1178</td>\n",
       "      <td>10</td>\n",
       "      <td>0</td>\n",
       "    </tr>\n",
       "    <tr>\n",
       "      <th>6</th>\n",
       "      <td>13-105</td>\n",
       "      <td>413</td>\n",
       "      <td>2020-03-01 12:00:14</td>\n",
       "      <td>0</td>\n",
       "      <td>1178</td>\n",
       "      <td>14</td>\n",
       "      <td>0</td>\n",
       "    </tr>\n",
       "    <tr>\n",
       "      <th>7</th>\n",
       "      <td>12-166</td>\n",
       "      <td>805</td>\n",
       "      <td>2020-03-01 12:00:15</td>\n",
       "      <td>0</td>\n",
       "      <td>1178</td>\n",
       "      <td>15</td>\n",
       "      <td>0</td>\n",
       "    </tr>\n",
       "    <tr>\n",
       "      <th>9</th>\n",
       "      <td>10-148</td>\n",
       "      <td>932</td>\n",
       "      <td>2020-03-01 12:00:19</td>\n",
       "      <td>0</td>\n",
       "      <td>1178</td>\n",
       "      <td>19</td>\n",
       "      <td>0</td>\n",
       "    </tr>\n",
       "    <tr>\n",
       "      <th>8</th>\n",
       "      <td>12-154</td>\n",
       "      <td>356</td>\n",
       "      <td>2020-03-01 12:00:19</td>\n",
       "      <td>0</td>\n",
       "      <td>1178</td>\n",
       "      <td>19</td>\n",
       "      <td>0</td>\n",
       "    </tr>\n",
       "  </tbody>\n",
       "</table>\n",
       "</div>"
      ],
      "text/plain": [
       "  ArticleId  UserId           Timestamp Site  SiteViews  Second  Minute\n",
       "0    12-163     553 2020-03-01 12:00:00    0       1178       0       0\n",
       "1    10-125     324 2020-03-01 12:00:03    0       1178       3       0\n",
       "2    10-181     254 2020-03-01 12:00:05    0       1178       5       0\n",
       "3    10-156     698 2020-03-01 12:00:06    0       1178       6       0\n",
       "4    12-127     602 2020-03-01 12:00:08    0       1178       8       0\n",
       "5    12-123     726 2020-03-01 12:00:10    0       1178      10       0\n",
       "6    13-105     413 2020-03-01 12:00:14    0       1178      14       0\n",
       "7    12-166     805 2020-03-01 12:00:15    0       1178      15       0\n",
       "9    10-148     932 2020-03-01 12:00:19    0       1178      19       0\n",
       "8    12-154     356 2020-03-01 12:00:19    0       1178      19       0"
      ]
     },
     "execution_count": 24,
     "metadata": {},
     "output_type": "execute_result"
    }
   ],
   "source": [
    "next(produce)  "
   ]
  },
  {
   "cell_type": "code",
   "execution_count": null,
   "metadata": {
    "ExecuteTime": {
     "end_time": "2021-10-30T11:18:33.742925Z",
     "start_time": "2021-10-30T11:18:33.611318Z"
    }
   },
   "outputs": [],
   "source": [
    "def consumer(Ceiling_Minute =  np.inf, Floor_Minute = np.NINF, Ceiling_Second = np.inf, Floor_Second = np.NINF):\n",
    "    \n",
    "    viewsSorted= next(producer(Ceiling_Minute =  np.inf, Floor_Minute = np.NINF, Ceiling_Second = np.inf, Floor_Second = np.NINF))\n",
    "      \n",
    "    \n",
    "\n",
    "\n",
    "    # 1. The Site with the most article views\n",
    "\n",
    "    \n",
    "    # Here I create a clone of the Article Id feature of our dataset. This is not necessary for calculations, but does mean we can group one whilst aggregate on the other Id, making outputing a clean verson of our results for part two slighly easier. \n",
    "    #This is not necessary for part one, as we are aggregating on seperate features, nor part three or four, where we cam aggregate on the generic timestamp column, rather than the minute or second features  \n",
    "    viewsSorted['ArticleIdForCount'] = viewsSorted['ArticleId'] \n",
    "\n",
    "                                                                                                                #The pandas group by function will return a multi-lolumn index. This can make calling columns, for sorting for example, a little fiddly.\n",
    "                                                                                                                #For legibility, and my efficiency, I like to transpose the groupby result, the reset its index, and transpose back \n",
    "    MaxSiteViewsDF =  viewsSorted.groupby(['Site'], as_index = False).agg({'SiteViews': ['count']}).T.reset_index(drop=True).T\n",
    "    MaxSiteViewsDF.columns = ['Site', 'MeanSiteViews']\n",
    "\n",
    "    # Here, we sort by the number of Site views in each Site, highest ontop with the asceding False argument, then extract just the first row. We could also extract the first row with the .head method. \n",
    "    MaxSiteViewsRow = MaxSiteViewsDF.sort_values(by = MaxSiteViewsDF.columns[-1], ascending=False).iloc[:1]\n",
    "    SiteWithMaxView = MaxSiteViewsRow.iloc[:,0]\n",
    "\n",
    "    SiteWithMaxView.columns = ['Site With Highest views', 'Site views']\n",
    "    consumer.SingleSiteWithMaxView = SiteWithMaxView.iloc[-1]\n",
    "\n",
    "    print('Site With Highest views:', consumer.SingleSiteWithMaxView)\n",
    "    print('------------------------------------------------------------------------------------------------------------------------------------')\n",
    "    \n",
    "    \n",
    "    #2. The most common paper\n",
    "\n",
    "    \n",
    "    MaxArtcleviewsDF = viewsSorted.groupby(['ArticleId'], as_index = False).agg({'ArticleIdForCount': ['count']}).T.reset_index(drop=True).T\n",
    "    MaxArtcleviewsDF.columns = ['ArticleId', 'ArticleIdForCount']\n",
    "\n",
    "    ArticleIdviewsRow = MaxArtcleviewsDF.sort_values(by = MaxArtcleviewsDF.columns[-1], ascending=False).iloc[:1]\n",
    "    ArticleIdwithMaxView = ArticleIdviewsRow.iloc[:,0]\n",
    "    ArticleIdwithMaxView.columns = ['Article With Highest views', 'Article views']\n",
    "    consumer.ArticleIdOnlywithMaxView = ArticleIdwithMaxView.iloc[-1]\n",
    " \n",
    "    \n",
    "    print('Article With Highest views:', consumer.ArticleIdOnlywithMaxView)\n",
    "    print('------------------------------------------------------------------------------------------------------------------------------------')\n",
    "\n",
    "    \n",
    "    # 3. Busiest 1 minute period\n",
    "    \n",
    "    MaxSecondviewsDF = viewsSorted.groupby(['Minute'], as_index = False).agg({'Timestamp': ['count']}).T.reset_index(drop=True).T\n",
    "    MaxSecondviewsDF.columns = ['Most Viewed Minute:', 'views in Busiest Minute:']\n",
    "\n",
    "    SecondviewsRow = MaxSecondviewsDF.sort_values(by = MaxSecondviewsDF.columns[-1], ascending=False).iloc[:1]\n",
    "    consumer.SecondwithMaxView = SecondviewsRow.iloc[-1]\n",
    "\n",
    "    consumer.SecondwithMaxView.columns = ['Minutes With Highest views', 'Minutes View Counts']\n",
    "\n",
    "    \n",
    "    # I decided to display the minute the the greatest number of views in addition to the views of that minute. SN's sights will go under significantly more stress at peak times, spotting temporal patterns could help prevent problems in the past, or identify the aetiology of known patterns. \n",
    "    # The two string method removes the index from the displayed output. The index returns the dataframe row number, and, although corresponding to time in our sorted dataframe, is unlikely to generate meaningful insights to our user. \n",
    "    print(consumer.SecondwithMaxView.to_string())\n",
    "    print('------------------------------------------------------------------------------------------------------------------------------------')\n",
    "\n",
    "\n",
    "    \n",
    "\n",
    "    # 4.  Suspected Robot Users - continuous clicks on different articles by the same\n",
    "    \n",
    "\n",
    "    MaxSecondviewsDF = viewsSorted.groupby(['UserId', 'Second'], as_index = False).agg({'Timestamp': ['count']}).T.reset_index(drop=True).T\n",
    "    MaxSecondviewsDF.columns = ['User Id of potential Robot(s):', 'Suspect Second:', 'views in Suspect Second:']\n",
    "    consumer.MaxSecondviewsDFSorted = MaxSecondviewsDF.sort_values(by = 'Suspect Second:', ascending=False) #could use .head(1)\n",
    "    \n",
    "    # I decided to display display additional information on robot users - the corresponding second(s) of activitity, and the views in that second.  \n",
    "    # The minute the the greatest number of views in addition to the views of that minute. SN's sights will go under significantly more stress at peak times, spotting temporal patterns could help prevent problems in the past, or identify the aetiology of known patterns. \n",
    "    \n",
    "    ''' I have also explained how I defined a robot user. \n",
    "    We could also define a robot user as having greater clicks in a time window than the user average by a certain quantity, \n",
    "    eg.consumer.MaxSecondviewsDFSorted[consumer.MaxSecondviewsDFSorted['views in Suspect Second:'] >  (consumer.MaxSecondviewsDFSorted['views in Suspect Second:'].mean() * 3)] will return information on users with more than three times the sample average '''\n",
    "    \n",
    "    print('A Robot is identified when a user is responsible for more than 12 views a second') \n",
    "    print(consumer.MaxSecondviewsDFSorted[consumer.MaxSecondviewsDFSorted['views in Suspect Second:'] > 12].to_string(index = False))\n",
    "    if consumer.MaxSecondviewsDFSorted[consumer.MaxSecondviewsDFSorted['views in Suspect Second:'] > 12]['User Id of potential Robot(s):'].nunique() > 3:\n",
    "        print('Warning - We Appear to have been affected by more than three robots!')\n",
    "\n",
    "        \n",
    "\n",
    "    \n",
    "    \n",
    "    \n",
    "    \n",
    "#percenage of robots\n",
    "    \n",
    "consumer()"
   ]
  },
  {
   "cell_type": "code",
   "execution_count": 38,
   "metadata": {
    "ExecuteTime": {
     "end_time": "2021-10-30T11:19:40.238726Z",
     "start_time": "2021-10-30T11:19:40.059975Z"
    }
   },
   "outputs": [
    {
     "name": "stdout",
     "output_type": "stream",
     "text": [
      "------------------------------------------------------------------------------------------------------------------------------------\n",
      "<class 'pandas.core.frame.DataFrame'>\n",
      "Int64Index: 1178 entries, 0 to 1177\n",
      "Data columns (total 5 columns):\n",
      " #   Column     Non-Null Count  Dtype \n",
      "---  ------     --------------  ----- \n",
      " 0   doc_id     1178 non-null   object\n",
      " 1   user_id    1178 non-null   int64 \n",
      " 2   timestamp  1178 non-null   object\n",
      " 3   Site       1178 non-null   object\n",
      " 4   SiteViews  1178 non-null   int64 \n",
      "dtypes: int64(2), object(3)\n",
      "memory usage: 55.2+ KB\n",
      "0\n",
      "   doc_id  user_id            timestamp Site  SiteViews\n",
      "0  12-163      553  2020-03-01T12:00:00    0       1178\n",
      "1  10-125      324  2020-03-01T12:00:03    0       1178\n",
      "2  10-181      254  2020-03-01T12:00:05    0       1178\n",
      "3  10-156      698  2020-03-01T12:00:06    0       1178\n",
      "4  12-127      602  2020-03-01T12:00:08    0       1178\n",
      "5  12-123      726  2020-03-01T12:00:10    0       1178\n",
      "6  13-105      413  2020-03-01T12:00:14    0       1178\n",
      "7  12-166      805  2020-03-01T12:00:15    0       1178\n",
      "9  10-148      932  2020-03-01T12:00:19    0       1178\n",
      "8  12-154      356  2020-03-01T12:00:19    0       1178\n",
      "View time is always labeled with historic dates, as we'd hope! All time labels appear to be within the same date, within the same hour\n",
      "tenr\n",
      "tenr\n",
      "Site With Highest views: 0\n",
      "------------------------------------------------------------------------------------------------------------------------------------\n",
      "Article With Highest views: 10-125\n",
      "------------------------------------------------------------------------------------------------------------------------------------\n",
      "Most Viewed Minute:          0\n",
      "views in Busiest Minute:    10\n",
      "------------------------------------------------------------------------------------------------------------------------------------\n",
      "A Robot is identified when a user is responsible for more than 12 views a second\n",
      "Empty DataFrame\n",
      "Columns: [User Id of potential Robot(s):, Suspect Second:, views in Suspect Second:]\n",
      "Index: []\n"
     ]
    },
    {
     "name": "stderr",
     "output_type": "stream",
     "text": [
      "<ipython-input-22-6b2bd6eb528b>:47: FutureWarning:\n",
      "\n",
      "The pandas.datetime class is deprecated and will be removed from pandas in a future version. Import from datetime module instead.\n",
      "\n",
      "<ipython-input-22-6b2bd6eb528b>:49: FutureWarning:\n",
      "\n",
      "The pandas.datetime class is deprecated and will be removed from pandas in a future version. Import from datetime module instead.\n",
      "\n"
     ]
    }
   ],
   "source": [
    "def consume(next_batch_of_10_article_views, consumer):\n",
    "    insights - consume.consumer() \n",
    "consumer(producer(Ceiling_Minute = 12, Floor_Minute = 2, Ceiling_Second = 20, Floor_Second = 2))"
   ]
  },
  {
   "cell_type": "code",
   "execution_count": null,
   "metadata": {},
   "outputs": [],
   "source": []
  }
 ],
 "metadata": {
  "kernelspec": {
   "display_name": "Python 3",
   "language": "python",
   "name": "python3"
  },
  "language_info": {
   "codemirror_mode": {
    "name": "ipython",
    "version": 3
   },
   "file_extension": ".py",
   "mimetype": "text/x-python",
   "name": "python",
   "nbconvert_exporter": "python",
   "pygments_lexer": "ipython3",
   "version": "3.8.5"
  },
  "nbTranslate": {
   "displayLangs": [
    "*"
   ],
   "hotkey": "alt-t",
   "langInMainMenu": true,
   "sourceLang": "en",
   "targetLang": "fr",
   "useGoogleTranslate": true
  },
  "toc": {
   "base_numbering": 1,
   "nav_menu": {},
   "number_sections": true,
   "sideBar": true,
   "skip_h1_title": false,
   "title_cell": "Table of Contents",
   "title_sidebar": "Contents",
   "toc_cell": false,
   "toc_position": {},
   "toc_section_display": true,
   "toc_window_display": false
  },
  "varInspector": {
   "cols": {
    "lenName": 16,
    "lenType": 16,
    "lenVar": 40
   },
   "kernels_config": {
    "python": {
     "delete_cmd_postfix": "",
     "delete_cmd_prefix": "del ",
     "library": "var_list.py",
     "varRefreshCmd": "print(var_dic_list())"
    },
    "r": {
     "delete_cmd_postfix": ") ",
     "delete_cmd_prefix": "rm(",
     "library": "var_list.r",
     "varRefreshCmd": "cat(var_dic_list()) "
    }
   },
   "types_to_exclude": [
    "module",
    "function",
    "builtin_function_or_method",
    "instance",
    "_Feature"
   ],
   "window_display": false
  }
 },
 "nbformat": 4,
 "nbformat_minor": 4
}
